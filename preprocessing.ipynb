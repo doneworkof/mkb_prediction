{
 "cells": [
  {
   "cell_type": "code",
   "execution_count": 33,
   "metadata": {},
   "outputs": [],
   "source": [
    "# Импорт библиотек\n",
    "import pandas as pd\n",
    "import numpy as np\n",
    "from matplotlib import pyplot as plt\n",
    "import seaborn as sns\n",
    "from tqdm import tqdm"
   ]
  },
  {
   "cell_type": "code",
   "execution_count": 2,
   "metadata": {},
   "outputs": [
    {
     "data": {
      "text/html": [
       "<div>\n",
       "<style scoped>\n",
       "    .dataframe tbody tr th:only-of-type {\n",
       "        vertical-align: middle;\n",
       "    }\n",
       "\n",
       "    .dataframe tbody tr th {\n",
       "        vertical-align: top;\n",
       "    }\n",
       "\n",
       "    .dataframe thead th {\n",
       "        text-align: right;\n",
       "    }\n",
       "</style>\n",
       "<table border=\"1\" class=\"dataframe\">\n",
       "  <thead>\n",
       "    <tr style=\"text-align: right;\">\n",
       "      <th></th>\n",
       "      <th>PATIENT_SEX</th>\n",
       "      <th>MKB_CODE</th>\n",
       "      <th>ADRES</th>\n",
       "      <th>VISIT_MONTH_YEAR</th>\n",
       "      <th>AGE_CATEGORY</th>\n",
       "      <th>PATIENT_ID_COUNT</th>\n",
       "    </tr>\n",
       "  </thead>\n",
       "  <tbody>\n",
       "    <tr>\n",
       "      <th>0</th>\n",
       "      <td>0</td>\n",
       "      <td>A00.0</td>\n",
       "      <td>Гурьевск</td>\n",
       "      <td>8.21</td>\n",
       "      <td>young</td>\n",
       "      <td>1</td>\n",
       "    </tr>\n",
       "    <tr>\n",
       "      <th>1</th>\n",
       "      <td>0</td>\n",
       "      <td>A00.0</td>\n",
       "      <td>Калининград</td>\n",
       "      <td>3.20</td>\n",
       "      <td>children</td>\n",
       "      <td>1</td>\n",
       "    </tr>\n",
       "    <tr>\n",
       "      <th>2</th>\n",
       "      <td>0</td>\n",
       "      <td>A00</td>\n",
       "      <td>Гусев</td>\n",
       "      <td>3.19</td>\n",
       "      <td>children</td>\n",
       "      <td>1</td>\n",
       "    </tr>\n",
       "    <tr>\n",
       "      <th>3</th>\n",
       "      <td>0</td>\n",
       "      <td>A00</td>\n",
       "      <td>Калининград</td>\n",
       "      <td>1.22</td>\n",
       "      <td>children</td>\n",
       "      <td>1</td>\n",
       "    </tr>\n",
       "    <tr>\n",
       "      <th>4</th>\n",
       "      <td>0</td>\n",
       "      <td>A00</td>\n",
       "      <td>Калининград</td>\n",
       "      <td>2.18</td>\n",
       "      <td>children</td>\n",
       "      <td>1</td>\n",
       "    </tr>\n",
       "  </tbody>\n",
       "</table>\n",
       "</div>"
      ],
      "text/plain": [
       "   PATIENT_SEX MKB_CODE        ADRES  VISIT_MONTH_YEAR AGE_CATEGORY  \\\n",
       "0            0    A00.0     Гурьевск              8.21        young   \n",
       "1            0    A00.0  Калининград              3.20     children   \n",
       "2            0      A00        Гусев              3.19     children   \n",
       "3            0      A00  Калининград              1.22     children   \n",
       "4            0      A00  Калининград              2.18     children   \n",
       "\n",
       "   PATIENT_ID_COUNT  \n",
       "0                 1  \n",
       "1                 1  \n",
       "2                 1  \n",
       "3                 1  \n",
       "4                 1  "
      ]
     },
     "execution_count": 2,
     "metadata": {},
     "output_type": "execute_result"
    }
   ],
   "source": [
    "# Загрузка необработанного датасета\n",
    "df = pd.read_csv('train_dataset_train.csv', sep=';')\n",
    "df.head()"
   ]
  },
  {
   "cell_type": "code",
   "execution_count": 3,
   "metadata": {},
   "outputs": [
    {
     "name": "stdout",
     "output_type": "stream",
     "text": [
      "<class 'pandas.core.frame.DataFrame'>\n",
      "RangeIndex: 2212393 entries, 0 to 2212392\n",
      "Data columns (total 6 columns):\n",
      " #   Column            Dtype  \n",
      "---  ------            -----  \n",
      " 0   PATIENT_SEX       int64  \n",
      " 1   MKB_CODE          object \n",
      " 2   ADRES             object \n",
      " 3   VISIT_MONTH_YEAR  float64\n",
      " 4   AGE_CATEGORY      object \n",
      " 5   PATIENT_ID_COUNT  int64  \n",
      "dtypes: float64(1), int64(2), object(3)\n",
      "memory usage: 101.3+ MB\n"
     ]
    }
   ],
   "source": [
    "df.info()"
   ]
  },
  {
   "cell_type": "code",
   "execution_count": 4,
   "metadata": {},
   "outputs": [],
   "source": [
    "# Приведение колонки к правильному типу\n",
    "df['VISIT_MONTH_YEAR'] = df['VISIT_MONTH_YEAR'].astype(str)"
   ]
  },
  {
   "cell_type": "code",
   "execution_count": 5,
   "metadata": {},
   "outputs": [
    {
     "data": {
      "text/plain": [
       "0    1316709\n",
       "1     895684\n",
       "Name: PATIENT_SEX, dtype: int64"
      ]
     },
     "execution_count": 5,
     "metadata": {},
     "output_type": "execute_result"
    }
   ],
   "source": [
    "# Распределение\n",
    "df['PATIENT_SEX'].value_counts()"
   ]
  },
  {
   "cell_type": "code",
   "execution_count": 6,
   "metadata": {},
   "outputs": [],
   "source": [
    "# Разделение колонки месяц_год на составляющие\n",
    "def split_month_year(df):\n",
    "    for i, col in enumerate(['MONTH', 'YEAR']):\n",
    "        df[col] = df['VISIT_MONTH_YEAR'].apply(lambda x: int(x.split('.')[i]))\n",
    "    df.drop('VISIT_MONTH_YEAR', axis=1, inplace=True)\n",
    "\n",
    "split_month_year(df)"
   ]
  },
  {
   "cell_type": "code",
   "execution_count": 7,
   "metadata": {},
   "outputs": [
    {
     "data": {
      "text/plain": [
       "array([21,  2, 19, 22, 18], dtype=int64)"
      ]
     },
     "execution_count": 7,
     "metadata": {},
     "output_type": "execute_result"
    }
   ],
   "source": [
    "# Уникальные года в датасете\n",
    "df['YEAR'].unique()"
   ]
  },
  {
   "cell_type": "code",
   "execution_count": 8,
   "metadata": {},
   "outputs": [],
   "source": [
    "# Небольшое изменение формата МКБ-кодов, потом понадобится\n",
    "import re\n",
    "\n",
    "def fix_mkb_code(df):\n",
    "    df['MKB_CODE'] = df['MKB_CODE'].apply(\n",
    "        lambda x: x if re.search('[A-Z]\\d{2}.\\d', x) is not None else x + '.0')\n",
    "fix_mkb_code(df)"
   ]
  },
  {
   "cell_type": "code",
   "execution_count": 9,
   "metadata": {},
   "outputs": [
    {
     "data": {
      "text/plain": [
       "Калининград           617129\n",
       "Гурьевск              116111\n",
       "Светлый                85748\n",
       "Пионерский             84932\n",
       "Советск                78466\n",
       "                       ...  \n",
       "Ясная Поляна            2670\n",
       "Малинники               2649\n",
       "Гурьевский              2635\n",
       "СТ Радуга               2588\n",
       "СТ Железнодорожник      2517\n",
       "Name: ADRES, Length: 118, dtype: int64"
      ]
     },
     "execution_count": 9,
     "metadata": {},
     "output_type": "execute_result"
    }
   ],
   "source": [
    "df['ADRES'].value_counts()"
   ]
  },
  {
   "cell_type": "code",
   "execution_count": 10,
   "metadata": {},
   "outputs": [],
   "source": [
    "# Добавление колонки сезона\n",
    "def get_season(month):\n",
    "    if month in [12, 1, 2]:\n",
    "        return 1\n",
    "    elif 3 <= month <= 5:\n",
    "        return 2\n",
    "    elif 6 <= month <= 8:\n",
    "        return 3\n",
    "    return 4\n",
    "\n",
    "def get_season_col(df):\n",
    "    df['SEASON'] = df['MONTH'].apply(lambda x: get_season(x))\n",
    "\n",
    "get_season_col(df)"
   ]
  },
  {
   "cell_type": "code",
   "execution_count": 11,
   "metadata": {},
   "outputs": [],
   "source": [
    "# Разделение МКБ-кодов на МКБ-группы\n",
    "\n",
    "from string import ascii_uppercase\n",
    "\n",
    "groups_str = [\n",
    "    'A00-B99', 'C00-D48', 'D50-D89', 'E00-E90',\n",
    "    'F00-F99', 'G00-G99', 'H00-H59', 'H60-H95',\n",
    "    'I00-I99', 'J00-J99', 'K00-K93', 'L00-L99',\n",
    "    'M00-M99', 'N00-N99', 'O00-O99', 'P00-P96',\n",
    "    'Q00-Q99', 'R00-R99', 'S00-T98', 'V01-Y98',\n",
    "    'Z00-Z99'\n",
    "]\n",
    "\n",
    "groups = []\n",
    "\n",
    "for grs in groups_str:\n",
    "    g1, g2 = grs.split('-')\n",
    "    sub = []\n",
    "    for g in [g1, g2]:\n",
    "        l = ascii_uppercase.index(g[0])\n",
    "        n = int(g[1:])\n",
    "        sub.append((l, n))\n",
    "    groups.append(sub)\n",
    "\n",
    "\n",
    "def get_mkb_group(code):\n",
    "    l = ascii_uppercase.index(code[0])\n",
    "    n = int(code[1:])\n",
    "\n",
    "    for i, group in enumerate(groups):\n",
    "        if not (group[0][0] <= l <= group[1][0]):\n",
    "            continue\n",
    "        elif group[0][0] == l and n < group[0][1]:\n",
    "            continue\n",
    "        elif group[1][0] == l and n > group[1][1]:\n",
    "            continue\n",
    "        return i\n",
    "\n",
    "    return np.nan\n",
    "\n",
    "\n",
    "def get_mkb_group_col(df):\n",
    "    df['MKB_GROUP'] = df['MKB_CODE'].apply(lambda x: get_mkb_group(x.split('.')[0]))"
   ]
  },
  {
   "cell_type": "code",
   "execution_count": 12,
   "metadata": {},
   "outputs": [
    {
     "data": {
      "text/plain": [
       "<AxesSubplot:>"
      ]
     },
     "execution_count": 12,
     "metadata": {},
     "output_type": "execute_result"
    },
    {
     "data": {
      "image/png": "[encoded data removed]",
      "text/plain": [
       "<Figure size 432x288 with 1 Axes>"
      ]
     },
     "metadata": {
      "needs_background": "light"
     },
     "output_type": "display_data"
    }
   ],
   "source": [
    "get_mkb_group_col(df)\n",
    "df['MKB_GROUP'].value_counts(normalize=True).plot(kind='bar')"
   ]
  },
  {
   "cell_type": "code",
   "execution_count": 13,
   "metadata": {},
   "outputs": [
    {
     "data": {
      "text/html": [
       "<div>\n",
       "<style scoped>\n",
       "    .dataframe tbody tr th:only-of-type {\n",
       "        vertical-align: middle;\n",
       "    }\n",
       "\n",
       "    .dataframe tbody tr th {\n",
       "        vertical-align: top;\n",
       "    }\n",
       "\n",
       "    .dataframe thead th {\n",
       "        text-align: right;\n",
       "    }\n",
       "</style>\n",
       "<table border=\"1\" class=\"dataframe\">\n",
       "  <thead>\n",
       "    <tr style=\"text-align: right;\">\n",
       "      <th></th>\n",
       "      <th>PATIENT_SEX</th>\n",
       "      <th>MKB_CODE</th>\n",
       "      <th>ADRES</th>\n",
       "      <th>AGE_CATEGORY</th>\n",
       "      <th>PATIENT_ID_COUNT</th>\n",
       "      <th>MONTH</th>\n",
       "      <th>YEAR</th>\n",
       "      <th>SEASON</th>\n",
       "      <th>MKB_GROUP</th>\n",
       "    </tr>\n",
       "  </thead>\n",
       "  <tbody>\n",
       "    <tr>\n",
       "      <th>0</th>\n",
       "      <td>0</td>\n",
       "      <td>A00.0</td>\n",
       "      <td>Гурьевск</td>\n",
       "      <td>young</td>\n",
       "      <td>1</td>\n",
       "      <td>8</td>\n",
       "      <td>21</td>\n",
       "      <td>3</td>\n",
       "      <td>0</td>\n",
       "    </tr>\n",
       "    <tr>\n",
       "      <th>1</th>\n",
       "      <td>0</td>\n",
       "      <td>A00.0</td>\n",
       "      <td>Калининград</td>\n",
       "      <td>children</td>\n",
       "      <td>1</td>\n",
       "      <td>3</td>\n",
       "      <td>2</td>\n",
       "      <td>2</td>\n",
       "      <td>0</td>\n",
       "    </tr>\n",
       "    <tr>\n",
       "      <th>2</th>\n",
       "      <td>0</td>\n",
       "      <td>A00.0</td>\n",
       "      <td>Гусев</td>\n",
       "      <td>children</td>\n",
       "      <td>1</td>\n",
       "      <td>3</td>\n",
       "      <td>19</td>\n",
       "      <td>2</td>\n",
       "      <td>0</td>\n",
       "    </tr>\n",
       "    <tr>\n",
       "      <th>3</th>\n",
       "      <td>0</td>\n",
       "      <td>A00.0</td>\n",
       "      <td>Калининград</td>\n",
       "      <td>children</td>\n",
       "      <td>1</td>\n",
       "      <td>1</td>\n",
       "      <td>22</td>\n",
       "      <td>1</td>\n",
       "      <td>0</td>\n",
       "    </tr>\n",
       "    <tr>\n",
       "      <th>4</th>\n",
       "      <td>0</td>\n",
       "      <td>A00.0</td>\n",
       "      <td>Калининград</td>\n",
       "      <td>children</td>\n",
       "      <td>1</td>\n",
       "      <td>2</td>\n",
       "      <td>18</td>\n",
       "      <td>1</td>\n",
       "      <td>0</td>\n",
       "    </tr>\n",
       "  </tbody>\n",
       "</table>\n",
       "</div>"
      ],
      "text/plain": [
       "   PATIENT_SEX MKB_CODE        ADRES AGE_CATEGORY  PATIENT_ID_COUNT  MONTH  \\\n",
       "0            0    A00.0     Гурьевск        young                 1      8   \n",
       "1            0    A00.0  Калининград     children                 1      3   \n",
       "2            0    A00.0        Гусев     children                 1      3   \n",
       "3            0    A00.0  Калининград     children                 1      1   \n",
       "4            0    A00.0  Калининград     children                 1      2   \n",
       "\n",
       "   YEAR  SEASON  MKB_GROUP  \n",
       "0    21       3          0  \n",
       "1     2       2          0  \n",
       "2    19       2          0  \n",
       "3    22       1          0  \n",
       "4    18       1          0  "
      ]
     },
     "execution_count": 13,
     "metadata": {},
     "output_type": "execute_result"
    }
   ],
   "source": [
    "df.head()"
   ]
  },
  {
   "cell_type": "code",
   "execution_count": 14,
   "metadata": {},
   "outputs": [
    {
     "data": {
      "text/plain": [
       "array(['Гурьевск', 'Калининград', 'Гусев', 'Нестеров', 'Партизанское',\n",
       "       'Садовое', 'Славск', 'Ясная Поляна', 'Гвардейск', 'Холмогоровка',\n",
       "       'Багратионовск', 'Большое Исаково', 'Зеленоградск',\n",
       "       'Калининградская', 'Колосовка', 'Краснознаменск', 'Невское',\n",
       "       'Неман', 'Пионерский', 'Правдинск', 'Прибрежный',\n",
       "       'СТ Железнодорожник', 'СТ Искра ул. Тюльпановая', 'СТ Победа',\n",
       "       'Светлый', 'Советск', 'Совхозное', 'Черняховск', 'Балтийск',\n",
       "       'Малое Васильково', 'Полесск', 'Сосновка', 'Ладушкин', 'Малинники',\n",
       "       'Раздольное', 'Озерск', 'Волочаевское', 'Мамоново', 'Нивенское',\n",
       "       'Светлогорск', 'Васильково', 'Голубево', 'Долгоруково', 'Донское',\n",
       "       'Дружный', 'Заозерье', 'Корнево', 'Ласкино', 'Луговое', 'Люблино',\n",
       "       'Малиновка', 'Малое Исаково', 'Матросово', 'Озерки',\n",
       "       'Переславское', 'Пятидорожное', 'СТ Колосок', 'СТ Радуга',\n",
       "       'Саранское', 'Славинск', 'Славянское', 'Ушаково', 'Янтарный',\n",
       "       'Ясное', 'Илюшино', 'Шоссейное', 'Южный', 'Петрово', 'Некрасово',\n",
       "       'Березовка', 'Большаково', 'Высокое', 'Домново', 'Дорожный',\n",
       "       'Железнодорожный', 'Знаменск', 'Коврово', 'Комсомольск',\n",
       "       'Константиновка', 'Крылово', 'Кумачево', 'Майское', 'Мельниково',\n",
       "       'Муромское', 'Низовье', 'Новодорожный', 'Новостроево',\n",
       "       'Первомайское', 'Пригородное', 'Приморск', 'Родники', 'Романово',\n",
       "       'Рощино', 'Рыбачий', 'СТ Чайка', 'Тимирязево', 'Храброво',\n",
       "       'Лесное', 'Взморье', 'Приморье', 'Рассвет', 'Залесье',\n",
       "       'Гурьевский', 'Фурманово', 'Заливино', 'Малое Луговое',\n",
       "       'Покровское', 'Прибрежное', 'Рыбное', 'Орловка', 'Владимирово',\n",
       "       'Добрино', 'Заостровье', 'Кострово', 'Маршальское',\n",
       "       'Ново-Московское', 'Северный', 'Тургенево'], dtype=object)"
      ]
     },
     "execution_count": 14,
     "metadata": {},
     "output_type": "execute_result"
    }
   ],
   "source": [
    "df['ADRES'].unique()"
   ]
  },
  {
   "cell_type": "code",
   "execution_count": 15,
   "metadata": {},
   "outputs": [],
   "source": [
    "# Импорт инструмента для получения координат\n",
    "from geopy.geocoders import Nominatim\n",
    "\n",
    "geolocator = Nominatim(user_agent='myapp')"
   ]
  },
  {
   "cell_type": "code",
   "execution_count": 16,
   "metadata": {},
   "outputs": [
    {
     "name": "stdout",
     "output_type": "stream",
     "text": [
      "Location not found: СТ Искра ул. Тюльпановая\n"
     ]
    }
   ],
   "source": [
    "# Получение координат каждого из мест\n",
    "locations = {}\n",
    "\n",
    "for loc in df['ADRES'].unique():\n",
    "    location = geolocator.geocode(f'Россия, Калининградская область, {loc}')\n",
    "    if location is None:\n",
    "        print('Location not found:', loc)\n",
    "        continue\n",
    "    locations[loc] = (location.latitude, location.longitude)"
   ]
  },
  {
   "cell_type": "code",
   "execution_count": 17,
   "metadata": {},
   "outputs": [],
   "source": [
    "# Ручая задача места\n",
    "locations['СТ Искра ул. Тюльпановая'] = (54.757112, 20.526514)"
   ]
  },
  {
   "cell_type": "code",
   "execution_count": 18,
   "metadata": {},
   "outputs": [
    {
     "data": {
      "text/html": [
       "<div>\n",
       "<style scoped>\n",
       "    .dataframe tbody tr th:only-of-type {\n",
       "        vertical-align: middle;\n",
       "    }\n",
       "\n",
       "    .dataframe tbody tr th {\n",
       "        vertical-align: top;\n",
       "    }\n",
       "\n",
       "    .dataframe thead th {\n",
       "        text-align: right;\n",
       "    }\n",
       "</style>\n",
       "<table border=\"1\" class=\"dataframe\">\n",
       "  <thead>\n",
       "    <tr style=\"text-align: right;\">\n",
       "      <th></th>\n",
       "      <th>LOC</th>\n",
       "      <th>LAT</th>\n",
       "      <th>LON</th>\n",
       "    </tr>\n",
       "  </thead>\n",
       "  <tbody>\n",
       "    <tr>\n",
       "      <th>0</th>\n",
       "      <td>Гурьевск</td>\n",
       "      <td>54.774557</td>\n",
       "      <td>20.603704</td>\n",
       "    </tr>\n",
       "    <tr>\n",
       "      <th>1</th>\n",
       "      <td>Калининград</td>\n",
       "      <td>54.710128</td>\n",
       "      <td>20.510584</td>\n",
       "    </tr>\n",
       "    <tr>\n",
       "      <th>2</th>\n",
       "      <td>Гусев</td>\n",
       "      <td>54.592144</td>\n",
       "      <td>22.201521</td>\n",
       "    </tr>\n",
       "    <tr>\n",
       "      <th>3</th>\n",
       "      <td>Нестеров</td>\n",
       "      <td>54.632545</td>\n",
       "      <td>22.571100</td>\n",
       "    </tr>\n",
       "    <tr>\n",
       "      <th>4</th>\n",
       "      <td>Партизанское</td>\n",
       "      <td>54.592304</td>\n",
       "      <td>20.621603</td>\n",
       "    </tr>\n",
       "  </tbody>\n",
       "</table>\n",
       "</div>"
      ],
      "text/plain": [
       "            LOC        LAT        LON\n",
       "0      Гурьевск  54.774557  20.603704\n",
       "1   Калининград  54.710128  20.510584\n",
       "2         Гусев  54.592144  22.201521\n",
       "3      Нестеров  54.632545  22.571100\n",
       "4  Партизанское  54.592304  20.621603"
      ]
     },
     "execution_count": 18,
     "metadata": {},
     "output_type": "execute_result"
    }
   ],
   "source": [
    "# Разделение мест на районы\n",
    "ldf = pd.DataFrame([\n",
    "    (loc, *locations[loc]) for loc in locations\n",
    "], columns=['LOC', 'LAT', 'LON'])\n",
    "ldf.head()"
   ]
  },
  {
   "cell_type": "code",
   "execution_count": 19,
   "metadata": {},
   "outputs": [
    {
     "data": {
      "text/plain": [
       "<AxesSubplot:xlabel='LON', ylabel='LAT'>"
      ]
     },
     "execution_count": 19,
     "metadata": {},
     "output_type": "execute_result"
    },
    {
     "data": {
      "image/png": "[encoded data removed]",
      "text/plain": [
       "<Figure size 432x288 with 1 Axes>"
      ]
     },
     "metadata": {
      "needs_background": "light"
     },
     "output_type": "display_data"
    }
   ],
   "source": [
    "sns.scatterplot(data=ldf, y='LAT', x='LON')"
   ]
  },
  {
   "cell_type": "code",
   "execution_count": 20,
   "metadata": {},
   "outputs": [
    {
     "data": {
      "text/plain": [
       "<AxesSubplot:xlabel='LON', ylabel='LAT'>"
      ]
     },
     "execution_count": 20,
     "metadata": {},
     "output_type": "execute_result"
    },
    {
     "data": {
      "image/png": "[encoded data removed]",
      "text/plain": [
       "<Figure size 432x288 with 1 Axes>"
      ]
     },
     "metadata": {
      "needs_background": "light"
     },
     "output_type": "display_data"
    }
   ],
   "source": [
    "from sklearn.cluster import DBSCAN, KMeans\n",
    "\n",
    "dbsc = DBSCAN(min_samples=2, eps=0.21).fit(ldf.filter(['LAT', 'LON']))\n",
    "ldf['LABEL'] = dbsc.labels_\n",
    "\n",
    "sns.scatterplot(data=ldf, y='LAT', x='LON', hue='LABEL')"
   ]
  },
  {
   "cell_type": "code",
   "execution_count": 21,
   "metadata": {},
   "outputs": [
    {
     "data": {
      "text/plain": [
       " 0    95\n",
       " 4     9\n",
       "-1     5\n",
       " 3     4\n",
       " 2     3\n",
       " 1     2\n",
       "Name: LABEL, dtype: int64"
      ]
     },
     "execution_count": 21,
     "metadata": {},
     "output_type": "execute_result"
    }
   ],
   "source": [
    "ldf['LABEL'].value_counts()"
   ]
  },
  {
   "cell_type": "code",
   "execution_count": 22,
   "metadata": {},
   "outputs": [],
   "source": [
    "# Заполнение значений -1\n",
    "idx = np.where(ldf['LABEL'] == -1)[0]\n",
    "ldf.loc[idx, 'LABEL'] = np.arange(5, 10)"
   ]
  },
  {
   "cell_type": "code",
   "execution_count": 23,
   "metadata": {},
   "outputs": [
    {
     "name": "stdout",
     "output_type": "stream",
     "text": [
      "Гурьевск 0\n",
      "Калининград 0\n",
      "Гусев 1\n",
      "Нестеров 2\n",
      "Партизанское 0\n",
      "Садовое 3\n",
      "Славск 4\n",
      "Ясная Поляна 2\n",
      "Гвардейск 0\n",
      "Холмогоровка 0\n"
     ]
    }
   ],
   "source": [
    "zones = dict([\n",
    "    (row['LOC'], row['LABEL']) for row in ldf.iloc\n",
    "])\n",
    "\n",
    "for z, i in list(zones.items())[:10]:\n",
    "    print(z, i)"
   ]
  },
  {
   "cell_type": "code",
   "execution_count": 24,
   "metadata": {},
   "outputs": [
    {
     "data": {
      "text/html": [
       "<div>\n",
       "<style scoped>\n",
       "    .dataframe tbody tr th:only-of-type {\n",
       "        vertical-align: middle;\n",
       "    }\n",
       "\n",
       "    .dataframe tbody tr th {\n",
       "        vertical-align: top;\n",
       "    }\n",
       "\n",
       "    .dataframe thead th {\n",
       "        text-align: right;\n",
       "    }\n",
       "</style>\n",
       "<table border=\"1\" class=\"dataframe\">\n",
       "  <thead>\n",
       "    <tr style=\"text-align: right;\">\n",
       "      <th></th>\n",
       "      <th>PATIENT_SEX</th>\n",
       "      <th>MKB_CODE</th>\n",
       "      <th>ADRES</th>\n",
       "      <th>AGE_CATEGORY</th>\n",
       "      <th>PATIENT_ID_COUNT</th>\n",
       "      <th>MONTH</th>\n",
       "      <th>YEAR</th>\n",
       "      <th>SEASON</th>\n",
       "      <th>MKB_GROUP</th>\n",
       "      <th>ZONE</th>\n",
       "    </tr>\n",
       "  </thead>\n",
       "  <tbody>\n",
       "    <tr>\n",
       "      <th>0</th>\n",
       "      <td>0</td>\n",
       "      <td>A00.0</td>\n",
       "      <td>Гурьевск</td>\n",
       "      <td>young</td>\n",
       "      <td>1</td>\n",
       "      <td>8</td>\n",
       "      <td>21</td>\n",
       "      <td>3</td>\n",
       "      <td>0</td>\n",
       "      <td>0</td>\n",
       "    </tr>\n",
       "    <tr>\n",
       "      <th>1</th>\n",
       "      <td>0</td>\n",
       "      <td>A00.0</td>\n",
       "      <td>Калининград</td>\n",
       "      <td>children</td>\n",
       "      <td>1</td>\n",
       "      <td>3</td>\n",
       "      <td>2</td>\n",
       "      <td>2</td>\n",
       "      <td>0</td>\n",
       "      <td>0</td>\n",
       "    </tr>\n",
       "    <tr>\n",
       "      <th>2</th>\n",
       "      <td>0</td>\n",
       "      <td>A00.0</td>\n",
       "      <td>Гусев</td>\n",
       "      <td>children</td>\n",
       "      <td>1</td>\n",
       "      <td>3</td>\n",
       "      <td>19</td>\n",
       "      <td>2</td>\n",
       "      <td>0</td>\n",
       "      <td>1</td>\n",
       "    </tr>\n",
       "    <tr>\n",
       "      <th>3</th>\n",
       "      <td>0</td>\n",
       "      <td>A00.0</td>\n",
       "      <td>Калининград</td>\n",
       "      <td>children</td>\n",
       "      <td>1</td>\n",
       "      <td>1</td>\n",
       "      <td>22</td>\n",
       "      <td>1</td>\n",
       "      <td>0</td>\n",
       "      <td>0</td>\n",
       "    </tr>\n",
       "    <tr>\n",
       "      <th>4</th>\n",
       "      <td>0</td>\n",
       "      <td>A00.0</td>\n",
       "      <td>Калининград</td>\n",
       "      <td>children</td>\n",
       "      <td>1</td>\n",
       "      <td>2</td>\n",
       "      <td>18</td>\n",
       "      <td>1</td>\n",
       "      <td>0</td>\n",
       "      <td>0</td>\n",
       "    </tr>\n",
       "  </tbody>\n",
       "</table>\n",
       "</div>"
      ],
      "text/plain": [
       "   PATIENT_SEX MKB_CODE        ADRES AGE_CATEGORY  PATIENT_ID_COUNT  MONTH  \\\n",
       "0            0    A00.0     Гурьевск        young                 1      8   \n",
       "1            0    A00.0  Калининград     children                 1      3   \n",
       "2            0    A00.0        Гусев     children                 1      3   \n",
       "3            0    A00.0  Калининград     children                 1      1   \n",
       "4            0    A00.0  Калининград     children                 1      2   \n",
       "\n",
       "   YEAR  SEASON  MKB_GROUP  ZONE  \n",
       "0    21       3          0     0  \n",
       "1     2       2          0     0  \n",
       "2    19       2          0     1  \n",
       "3    22       1          0     0  \n",
       "4    18       1          0     0  "
      ]
     },
     "execution_count": 24,
     "metadata": {},
     "output_type": "execute_result"
    }
   ],
   "source": [
    "# Создание колонки зоны\n",
    "def get_zone_col(df):\n",
    "    df['ZONE'] = df['ADRES'].apply(lambda x: zones[x])\n",
    "\n",
    "get_zone_col(df)\n",
    "df.head()"
   ]
  },
  {
   "cell_type": "code",
   "execution_count": 25,
   "metadata": {},
   "outputs": [
    {
     "data": {
      "text/html": [
       "<div>\n",
       "<style scoped>\n",
       "    .dataframe tbody tr th:only-of-type {\n",
       "        vertical-align: middle;\n",
       "    }\n",
       "\n",
       "    .dataframe tbody tr th {\n",
       "        vertical-align: top;\n",
       "    }\n",
       "\n",
       "    .dataframe thead th {\n",
       "        text-align: right;\n",
       "    }\n",
       "</style>\n",
       "<table border=\"1\" class=\"dataframe\">\n",
       "  <thead>\n",
       "    <tr style=\"text-align: right;\">\n",
       "      <th></th>\n",
       "      <th>PATIENT_SEX</th>\n",
       "      <th>MKB_CODE</th>\n",
       "      <th>ADRES</th>\n",
       "      <th>VISIT_MONTH_YEAR</th>\n",
       "      <th>AGE_CATEGORY</th>\n",
       "    </tr>\n",
       "  </thead>\n",
       "  <tbody>\n",
       "    <tr>\n",
       "      <th>0</th>\n",
       "      <td>0</td>\n",
       "      <td>A00</td>\n",
       "      <td>Калининград</td>\n",
       "      <td>4.22</td>\n",
       "      <td>children</td>\n",
       "    </tr>\n",
       "    <tr>\n",
       "      <th>1</th>\n",
       "      <td>0</td>\n",
       "      <td>A00</td>\n",
       "      <td>Калининград</td>\n",
       "      <td>4.22</td>\n",
       "      <td>elderly</td>\n",
       "    </tr>\n",
       "    <tr>\n",
       "      <th>2</th>\n",
       "      <td>0</td>\n",
       "      <td>A00</td>\n",
       "      <td>Калининград</td>\n",
       "      <td>4.22</td>\n",
       "      <td>middleage</td>\n",
       "    </tr>\n",
       "    <tr>\n",
       "      <th>3</th>\n",
       "      <td>0</td>\n",
       "      <td>A00</td>\n",
       "      <td>Калининград</td>\n",
       "      <td>4.22</td>\n",
       "      <td>young</td>\n",
       "    </tr>\n",
       "    <tr>\n",
       "      <th>4</th>\n",
       "      <td>0</td>\n",
       "      <td>A01</td>\n",
       "      <td>Калининград</td>\n",
       "      <td>4.22</td>\n",
       "      <td>middleage</td>\n",
       "    </tr>\n",
       "  </tbody>\n",
       "</table>\n",
       "</div>"
      ],
      "text/plain": [
       "   PATIENT_SEX MKB_CODE        ADRES  VISIT_MONTH_YEAR AGE_CATEGORY\n",
       "0            0      A00  Калининград              4.22     children\n",
       "1            0      A00  Калининград              4.22      elderly\n",
       "2            0      A00  Калининград              4.22    middleage\n",
       "3            0      A00  Калининград              4.22        young\n",
       "4            0      A01  Калининград              4.22    middleage"
      ]
     },
     "execution_count": 25,
     "metadata": {},
     "output_type": "execute_result"
    }
   ],
   "source": [
    "# Добавление новых колонок для тестового датасета\n",
    "dft = pd.read_csv('test_dataset_test.csv', sep=';')\n",
    "dft.head()"
   ]
  },
  {
   "cell_type": "code",
   "execution_count": 26,
   "metadata": {},
   "outputs": [
    {
     "data": {
      "text/plain": [
       "array([4.22])"
      ]
     },
     "execution_count": 26,
     "metadata": {},
     "output_type": "execute_result"
    }
   ],
   "source": [
    "dft['VISIT_MONTH_YEAR'].unique()"
   ]
  },
  {
   "cell_type": "code",
   "execution_count": 27,
   "metadata": {},
   "outputs": [],
   "source": [
    "dft['VISIT_MONTH_YEAR'] = dft['VISIT_MONTH_YEAR'].astype(str)"
   ]
  },
  {
   "cell_type": "code",
   "execution_count": 28,
   "metadata": {},
   "outputs": [],
   "source": [
    "split_month_year(dft)\n",
    "fix_mkb_code(dft)\n",
    "get_season_col(dft)\n",
    "get_mkb_group_col(dft)\n",
    "get_zone_col(dft)"
   ]
  },
  {
   "cell_type": "code",
   "execution_count": 29,
   "metadata": {},
   "outputs": [
    {
     "data": {
      "text/plain": [
       "array(['A00.0', 'A01.0', 'A02.0', ..., 'Z92.8', 'Z95.2', 'Z96.7'],\n",
       "      dtype=object)"
      ]
     },
     "execution_count": 29,
     "metadata": {},
     "output_type": "execute_result"
    }
   ],
   "source": [
    "dft['MKB_CODE'].unique()"
   ]
  },
  {
   "cell_type": "code",
   "execution_count": 30,
   "metadata": {},
   "outputs": [
    {
     "data": {
      "text/plain": [
       "array([ 0,  1,  2,  3,  4,  5,  6,  7,  8,  9, 10, 11, 12, 13, 14, 15, 16,\n",
       "       17, 18, 19, 20], dtype=int64)"
      ]
     },
     "execution_count": 30,
     "metadata": {},
     "output_type": "execute_result"
    }
   ],
   "source": [
    "dft['MKB_GROUP'].unique()"
   ]
  },
  {
   "cell_type": "code",
   "execution_count": 31,
   "metadata": {},
   "outputs": [
    {
     "name": "stdout",
     "output_type": "stream",
     "text": [
      "<class 'pandas.core.frame.DataFrame'>\n",
      "RangeIndex: 39373 entries, 0 to 39372\n",
      "Data columns (total 9 columns):\n",
      " #   Column        Non-Null Count  Dtype \n",
      "---  ------        --------------  ----- \n",
      " 0   PATIENT_SEX   39373 non-null  int64 \n",
      " 1   MKB_CODE      39373 non-null  object\n",
      " 2   ADRES         39373 non-null  object\n",
      " 3   AGE_CATEGORY  39373 non-null  object\n",
      " 4   MONTH         39373 non-null  int64 \n",
      " 5   YEAR          39373 non-null  int64 \n",
      " 6   SEASON        39373 non-null  int64 \n",
      " 7   MKB_GROUP     39373 non-null  int64 \n",
      " 8   ZONE          39373 non-null  int64 \n",
      "dtypes: int64(6), object(3)\n",
      "memory usage: 2.7+ MB\n"
     ]
    }
   ],
   "source": [
    "dft.info()"
   ]
  },
  {
   "cell_type": "code",
   "execution_count": 32,
   "metadata": {},
   "outputs": [
    {
     "data": {
      "text/html": [
       "<div>\n",
       "<style scoped>\n",
       "    .dataframe tbody tr th:only-of-type {\n",
       "        vertical-align: middle;\n",
       "    }\n",
       "\n",
       "    .dataframe tbody tr th {\n",
       "        vertical-align: top;\n",
       "    }\n",
       "\n",
       "    .dataframe thead th {\n",
       "        text-align: right;\n",
       "    }\n",
       "</style>\n",
       "<table border=\"1\" class=\"dataframe\">\n",
       "  <thead>\n",
       "    <tr style=\"text-align: right;\">\n",
       "      <th></th>\n",
       "      <th>PATIENT_SEX</th>\n",
       "      <th>MKB_CODE</th>\n",
       "      <th>ADRES</th>\n",
       "      <th>AGE_CATEGORY</th>\n",
       "      <th>PATIENT_ID_COUNT</th>\n",
       "      <th>MONTH</th>\n",
       "      <th>YEAR</th>\n",
       "      <th>SEASON</th>\n",
       "      <th>MKB_GROUP</th>\n",
       "      <th>ZONE</th>\n",
       "      <th>TIME</th>\n",
       "    </tr>\n",
       "  </thead>\n",
       "  <tbody>\n",
       "    <tr>\n",
       "      <th>0</th>\n",
       "      <td>0</td>\n",
       "      <td>A00.0</td>\n",
       "      <td>Гурьевск</td>\n",
       "      <td>young</td>\n",
       "      <td>1</td>\n",
       "      <td>8</td>\n",
       "      <td>21</td>\n",
       "      <td>3</td>\n",
       "      <td>0</td>\n",
       "      <td>0</td>\n",
       "      <td>236</td>\n",
       "    </tr>\n",
       "    <tr>\n",
       "      <th>1</th>\n",
       "      <td>0</td>\n",
       "      <td>A00.0</td>\n",
       "      <td>Калининград</td>\n",
       "      <td>children</td>\n",
       "      <td>1</td>\n",
       "      <td>3</td>\n",
       "      <td>2</td>\n",
       "      <td>2</td>\n",
       "      <td>0</td>\n",
       "      <td>0</td>\n",
       "      <td>3</td>\n",
       "    </tr>\n",
       "    <tr>\n",
       "      <th>2</th>\n",
       "      <td>0</td>\n",
       "      <td>A00.0</td>\n",
       "      <td>Гусев</td>\n",
       "      <td>children</td>\n",
       "      <td>1</td>\n",
       "      <td>3</td>\n",
       "      <td>19</td>\n",
       "      <td>2</td>\n",
       "      <td>0</td>\n",
       "      <td>1</td>\n",
       "      <td>207</td>\n",
       "    </tr>\n",
       "    <tr>\n",
       "      <th>3</th>\n",
       "      <td>0</td>\n",
       "      <td>A00.0</td>\n",
       "      <td>Калининград</td>\n",
       "      <td>children</td>\n",
       "      <td>1</td>\n",
       "      <td>1</td>\n",
       "      <td>22</td>\n",
       "      <td>1</td>\n",
       "      <td>0</td>\n",
       "      <td>0</td>\n",
       "      <td>241</td>\n",
       "    </tr>\n",
       "    <tr>\n",
       "      <th>4</th>\n",
       "      <td>0</td>\n",
       "      <td>A00.0</td>\n",
       "      <td>Калининград</td>\n",
       "      <td>children</td>\n",
       "      <td>1</td>\n",
       "      <td>2</td>\n",
       "      <td>18</td>\n",
       "      <td>1</td>\n",
       "      <td>0</td>\n",
       "      <td>0</td>\n",
       "      <td>194</td>\n",
       "    </tr>\n",
       "  </tbody>\n",
       "</table>\n",
       "</div>"
      ],
      "text/plain": [
       "   PATIENT_SEX MKB_CODE        ADRES AGE_CATEGORY  PATIENT_ID_COUNT  MONTH  \\\n",
       "0            0    A00.0     Гурьевск        young                 1      8   \n",
       "1            0    A00.0  Калининград     children                 1      3   \n",
       "2            0    A00.0        Гусев     children                 1      3   \n",
       "3            0    A00.0  Калининград     children                 1      1   \n",
       "4            0    A00.0  Калининград     children                 1      2   \n",
       "\n",
       "   YEAR  SEASON  MKB_GROUP  ZONE  TIME  \n",
       "0    21       3          0     0   236  \n",
       "1     2       2          0     0     3  \n",
       "2    19       2          0     1   207  \n",
       "3    22       1          0     0   241  \n",
       "4    18       1          0     0   194  "
      ]
     },
     "execution_count": 32,
     "metadata": {},
     "output_type": "execute_result"
    }
   ],
   "source": [
    "# Добавление колонки времени\n",
    "for tgt in [df, dft]:\n",
    "    tgt['TIME'] = (tgt['YEAR'] - 2) * 12 + tgt['MONTH']\n",
    "df.head()"
   ]
  },
  {
   "cell_type": "code",
   "execution_count": 34,
   "metadata": {},
   "outputs": [
    {
     "name": "stderr",
     "output_type": "stream",
     "text": [
      "100%|██████████| 2185535/2185535 [12:11<00:00, 2987.48it/s]\n"
     ]
    }
   ],
   "source": [
    "# Удаление повторений\n",
    "df_grouped = df.groupby(['MKB_CODE', 'ADRES', 'AGE_CATEGORY', 'PATIENT_SEX', 'TIME'])\n",
    "rows = []\n",
    "\n",
    "for group in tqdm(df_grouped.groups.keys()):\n",
    "    sub_df = df_grouped.get_group(group)\n",
    "    val = sub_df['PATIENT_ID_COUNT'].sum()\n",
    "    row = sub_df.iloc[0].copy()\n",
    "    row['PATIENT_ID_COUNT'] = val\n",
    "    rows.append(row)\n",
    "\n",
    "df = pd.DataFrame(rows).reset_index(drop=True)"
   ]
  },
  {
   "cell_type": "code",
   "execution_count": 36,
   "metadata": {},
   "outputs": [],
   "source": [
    "del df_grouped"
   ]
  },
  {
   "cell_type": "code",
   "execution_count": 40,
   "metadata": {},
   "outputs": [],
   "source": [
    "# Сохранение всего в файлы\n",
    "dft.to_csv('test.csv', index=False)\n",
    "df.to_csv('train.csv', index=False)"
   ]
  }
 ],
 "metadata": {
  "kernelspec": {
   "display_name": "Python 3.9.2 64-bit",
   "language": "python",
   "name": "python3"
  },
  "language_info": {
   "codemirror_mode": {
    "name": "ipython",
    "version": 3
   },
   "file_extension": ".py",
   "mimetype": "text/x-python",
   "name": "python",
   "nbconvert_exporter": "python",
   "pygments_lexer": "ipython3",
   "version": "3.9.2"
  },
  "orig_nbformat": 4,
  "vscode": {
   "interpreter": {
    "hash": "865d8b2eb28e274047ba64063dfb6a2aabf0dfec4905d304d7a76618dae6fdd4"
   }
  }
 },
 "nbformat": 4,
 "nbformat_minor": 2
}
