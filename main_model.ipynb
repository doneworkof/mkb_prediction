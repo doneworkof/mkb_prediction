{
 "cells": [
  {
   "cell_type": "code",
   "execution_count": 1,
   "metadata": {},
   "outputs": [
    {
     "name": "stderr",
     "output_type": "stream",
     "text": [
      "d:\\python\\lib\\site-packages\\scipy\\__init__.py:146: UserWarning: A NumPy version >=1.16.5 and <1.23.0 is required for this version of SciPy (detected version 1.23.1\n",
      "  warnings.warn(f\"A NumPy version >={np_minversion} and <{np_maxversion}\"\n"
     ]
    }
   ],
   "source": [
    "# Импортируем все необходимые библиотеки\n",
    "import numpy as np\n",
    "import pandas as pd\n",
    "from matplotlib import pyplot as plt\n",
    "import seaborn as sns\n",
    "from tqdm import tqdm\n",
    "from sklearn.metrics import r2_score\n",
    "from scipy.special import softmax"
   ]
  },
  {
   "cell_type": "code",
   "execution_count": 2,
   "metadata": {},
   "outputs": [
    {
     "data": {
      "text/html": [
       "<div>\n",
       "<style scoped>\n",
       "    .dataframe tbody tr th:only-of-type {\n",
       "        vertical-align: middle;\n",
       "    }\n",
       "\n",
       "    .dataframe tbody tr th {\n",
       "        vertical-align: top;\n",
       "    }\n",
       "\n",
       "    .dataframe thead th {\n",
       "        text-align: right;\n",
       "    }\n",
       "</style>\n",
       "<table border=\"1\" class=\"dataframe\">\n",
       "  <thead>\n",
       "    <tr style=\"text-align: right;\">\n",
       "      <th></th>\n",
       "      <th>PATIENT_SEX</th>\n",
       "      <th>MKB_CODE</th>\n",
       "      <th>ADRES</th>\n",
       "      <th>AGE_CATEGORY</th>\n",
       "      <th>PATIENT_ID_COUNT</th>\n",
       "      <th>MONTH</th>\n",
       "      <th>YEAR</th>\n",
       "      <th>SEASON</th>\n",
       "      <th>MKB_GROUP</th>\n",
       "      <th>ZONE</th>\n",
       "      <th>TIME</th>\n",
       "    </tr>\n",
       "  </thead>\n",
       "  <tbody>\n",
       "    <tr>\n",
       "      <th>0</th>\n",
       "      <td>0</td>\n",
       "      <td>A00.0</td>\n",
       "      <td>Гурьевск</td>\n",
       "      <td>young</td>\n",
       "      <td>1</td>\n",
       "      <td>8</td>\n",
       "      <td>21</td>\n",
       "      <td>3</td>\n",
       "      <td>0</td>\n",
       "      <td>0</td>\n",
       "      <td>236</td>\n",
       "    </tr>\n",
       "    <tr>\n",
       "      <th>1</th>\n",
       "      <td>0</td>\n",
       "      <td>A00.0</td>\n",
       "      <td>Гусев</td>\n",
       "      <td>children</td>\n",
       "      <td>1</td>\n",
       "      <td>3</td>\n",
       "      <td>19</td>\n",
       "      <td>2</td>\n",
       "      <td>0</td>\n",
       "      <td>1</td>\n",
       "      <td>207</td>\n",
       "    </tr>\n",
       "    <tr>\n",
       "      <th>2</th>\n",
       "      <td>1</td>\n",
       "      <td>A00.0</td>\n",
       "      <td>Заостровье</td>\n",
       "      <td>children</td>\n",
       "      <td>1</td>\n",
       "      <td>5</td>\n",
       "      <td>19</td>\n",
       "      <td>2</td>\n",
       "      <td>0</td>\n",
       "      <td>0</td>\n",
       "      <td>209</td>\n",
       "    </tr>\n",
       "    <tr>\n",
       "      <th>3</th>\n",
       "      <td>0</td>\n",
       "      <td>A00.0</td>\n",
       "      <td>Калининград</td>\n",
       "      <td>children</td>\n",
       "      <td>1</td>\n",
       "      <td>3</td>\n",
       "      <td>2</td>\n",
       "      <td>2</td>\n",
       "      <td>0</td>\n",
       "      <td>0</td>\n",
       "      <td>3</td>\n",
       "    </tr>\n",
       "    <tr>\n",
       "      <th>4</th>\n",
       "      <td>0</td>\n",
       "      <td>A00.0</td>\n",
       "      <td>Калининград</td>\n",
       "      <td>children</td>\n",
       "      <td>1</td>\n",
       "      <td>2</td>\n",
       "      <td>18</td>\n",
       "      <td>1</td>\n",
       "      <td>0</td>\n",
       "      <td>0</td>\n",
       "      <td>194</td>\n",
       "    </tr>\n",
       "  </tbody>\n",
       "</table>\n",
       "</div>"
      ],
      "text/plain": [
       "   PATIENT_SEX MKB_CODE        ADRES AGE_CATEGORY  PATIENT_ID_COUNT  MONTH  \\\n",
       "0            0    A00.0     Гурьевск        young                 1      8   \n",
       "1            0    A00.0        Гусев     children                 1      3   \n",
       "2            1    A00.0   Заостровье     children                 1      5   \n",
       "3            0    A00.0  Калининград     children                 1      3   \n",
       "4            0    A00.0  Калининград     children                 1      2   \n",
       "\n",
       "   YEAR  SEASON  MKB_GROUP  ZONE  TIME  \n",
       "0    21       3          0     0   236  \n",
       "1    19       2          0     1   207  \n",
       "2    19       2          0     0   209  \n",
       "3     2       2          0     0     3  \n",
       "4    18       1          0     0   194  "
      ]
     },
     "execution_count": 2,
     "metadata": {},
     "output_type": "execute_result"
    }
   ],
   "source": [
    "# Загружаем датасеты\n",
    "df_train = pd.read_csv('train.csv')\n",
    "df_test = pd.read_csv('test.csv')\n",
    "df_train.head()"
   ]
  },
  {
   "cell_type": "code",
   "execution_count": 3,
   "metadata": {},
   "outputs": [],
   "source": [
    "# Разделяем заболевания на группы;\n",
    "# При недостатке строк в какой-то из групп добавляем\n",
    "# В него похожие заболевания\n",
    "def separate_diseases(base, min_rows_per_code=10):\n",
    "    mkb_groups = []\n",
    "\n",
    "    for i in range(base['MKB_GROUP'].max() + 1):\n",
    "        mkb_groups.append(\n",
    "            base[base['MKB_GROUP'] == i].reset_index(drop=True))\n",
    "\n",
    "    diseases = {}\n",
    "\n",
    "    for dataset in tqdm(mkb_groups):\n",
    "        codes = dataset['MKB_CODE'].value_counts()\n",
    "\n",
    "        for code in codes.index:\n",
    "            count = codes[code]\n",
    "            to_select = (dataset['MKB_CODE'] == code).reset_index(drop=True)\n",
    "\n",
    "            if (sum := to_select.sum()) < min_rows_per_code:\n",
    "                addit_count = 2 * (min_rows_per_code - sum)\n",
    "                addit = np.where(~to_select)[0][:addit_count]\n",
    "                to_select[addit] = ~to_select[addit]\n",
    "            \n",
    "            diseases[code] = dataset[to_select].reset_index(drop=True)\n",
    "\n",
    "    return diseases"
   ]
  },
  {
   "cell_type": "code",
   "execution_count": 4,
   "metadata": {},
   "outputs": [
    {
     "name": "stderr",
     "output_type": "stream",
     "text": [
      "100%|██████████| 21/21 [00:50<00:00,  2.40s/it]\n"
     ]
    }
   ],
   "source": [
    "diseases = separate_diseases(df_train)"
   ]
  },
  {
   "cell_type": "code",
   "execution_count": 7,
   "metadata": {},
   "outputs": [
    {
     "data": {
      "text/plain": [
       "Index(['PATIENT_SEX', 'MKB_CODE', 'ADRES', 'AGE_CATEGORY', 'PATIENT_ID_COUNT',\n",
       "       'MONTH', 'YEAR', 'SEASON', 'MKB_GROUP', 'ZONE', 'TIME'],\n",
       "      dtype='object')"
      ]
     },
     "execution_count": 7,
     "metadata": {},
     "output_type": "execute_result"
    }
   ],
   "source": [
    "df_train.columns"
   ]
  },
  {
   "cell_type": "code",
   "execution_count": 8,
   "metadata": {},
   "outputs": [],
   "source": [
    "# Веса для определения важности категориальных\n",
    "# переменных.\n",
    "# (Например, пол пациента не так \n",
    "# важен как его возрастная группа)\n",
    "diff_cat_weights = {\n",
    "    'PATIENT_SEX': 0.2,\n",
    "    'MKB_CODE': 2,\n",
    "    'ADRES': 2,\n",
    "    'AGE_CATEGORY': 1.5,\n",
    "    'MONTH': 1,\n",
    "    'YEAR': 1.5,\n",
    "    'SEASON': 0.5\n",
    "}\n",
    "\n",
    "# Фильтровая единица\n",
    "class PredUnit:\n",
    "    # Метод отделения\n",
    "    # (Отбрасывает непохожие строки)\n",
    "    def forward(self, row, df):\n",
    "        return np.ones((len(df),))\n",
    "\n",
    "    # Метод восстановления\n",
    "    # (Набирает некоторые наиболее подходящие строки назад)\n",
    "    def on_row_lack(self, row, df, lack):\n",
    "        return []\n",
    "\n",
    "# Модель\n",
    "class ComplexPredictionModel:\n",
    "    # Конструктор\n",
    "    def __init__(self, base, pred_units, selecting_method='mean', distance='standard', alpha=10):\n",
    "        # Самостоятельное распределение болезней,\n",
    "        # если необходимо\n",
    "        if type(base) == pd.DataFrame:\n",
    "            self.diseases = separate_diseases(base)\n",
    "        elif type(base) == dict:\n",
    "            self.diseases = base\n",
    "        else:\n",
    "            raise Exception(\n",
    "                'Input data must be dataframe'\n",
    "                ' or array of diseases.')\n",
    "        # Сохранение параметров\n",
    "        self.alpha = alpha\n",
    "        self.pred_units = pred_units\n",
    "        self.selecting_method = selecting_method\n",
    "        self.distance = distance\n",
    "\n",
    "    # Метод для нахождения группы болезни по\n",
    "    # МКБ-коду\n",
    "    def find_mkb_for_group(self, group):\n",
    "        for i, df in self.diseases.items():\n",
    "            if df['MKB_GROUP'][0] != group:\n",
    "                continue\n",
    "            return df['MKB_CODE'].mode().iloc[0]\n",
    "\n",
    "    # Расстояние между строками в таблице\n",
    "    def _get_row_distance(self, main, sub):\n",
    "        distance = 0\n",
    "        # Два способа измерения дистанции\n",
    "        if self.distance == 'standard':\n",
    "            for col in main.index:\n",
    "                if type(main[col]) == str:\n",
    "                    distance += int(main[col] != sub[col])\n",
    "                else:\n",
    "                    distance += abs(main[col] - sub[col])\n",
    "        elif self.distance == 'weighted':\n",
    "            for k, w in diff_cat_weights.items():\n",
    "                distance += int(main[k] != sub[k]) * w\n",
    "        else:\n",
    "            raise Exception('Unknown distance type')\n",
    "        return distance\n",
    "\n",
    "    # Предсказание значения для строки\n",
    "    def _predict_row(self, row):\n",
    "        # Нахождение нужной группы болезней\n",
    "        mkb_code = row['MKB_CODE']\n",
    "        if mkb_code not in self.diseases:\n",
    "            mkb_code = self.find_mkb_for_group(row['MKB_GROUP'])\n",
    "        df = self.diseases[mkb_code]\n",
    "        \n",
    "        # Прохождение по всем фильтровым единицам модели;\n",
    "        # В итоге остаются только самые похожие на ROW строки;\n",
    "        # Причём кол-во этих строк не меньше параметра alpha.\n",
    "        for unit in self.pred_units:\n",
    "            to_select = unit.forward(row, df)\n",
    "            if (s := to_select.sum()) < self.alpha:\n",
    "                addit = unit.on_row_lack(\n",
    "                    row, df, self.alpha - s\n",
    "                )\n",
    "                to_select = to_select | addit\n",
    "            df = df.iloc[\n",
    "                np.where(to_select)[0]]\n",
    "            df.reset_index(drop=True, inplace=True)\n",
    "\n",
    "        if len(df) == 0:\n",
    "            return np.nan\n",
    "\n",
    "        # Вычисление значения согласно способу\n",
    "        if self.selecting_method == 'mean':\n",
    "            return np.round(df['PATIENT_ID_COUNT'].mean())\n",
    "        elif self.selecting_method == 'weighted_mean':\n",
    "            weights = softmax(1 - softmax([\n",
    "                self._get_row_distance(row, df_row) for df_row in df.iloc\n",
    "            ]))\n",
    "            return sum([\n",
    "                val * weight for weight, val in zip(weights, df['PATIENT_ID_COUNT'])\n",
    "            ])\n",
    "        elif self.selecting_method == 'most_similar':\n",
    "            idx = np.argmin([\n",
    "                self._get_row_distance(row, df_row) for df_row in df.iloc\n",
    "            ])\n",
    "            row = df.iloc[idx]\n",
    "            return row['PATIENT_ID_COUNT']\n",
    "        else:\n",
    "            raise Exception('Unknown selecting method!')\n",
    "    \n",
    "    # Метод предсказания целевой переменной\n",
    "    # для таблицы DataFrame\n",
    "    def predict(self, df):\n",
    "        pred = []\n",
    "        for row in tqdm(df.iloc):\n",
    "            pred.append(self._predict_row(row))\n",
    "        return np.array(pred)\n",
    "    \n",
    "    # Метод проверки модели\n",
    "    def score(self, df, y_true):\n",
    "        y_pred = self.predict(df)\n",
    "        return r2_score(y_true, y_pred)"
   ]
  },
  {
   "cell_type": "code",
   "execution_count": 9,
   "metadata": {},
   "outputs": [],
   "source": [
    "# Фильтр возраста\n",
    "class AgeUnit(PredUnit):\n",
    "    def __init__(self):\n",
    "        self.age_categories = [\n",
    "            'children', 'young', 'elderly',\n",
    "            'middleage', 'old', 'centenarians']\n",
    "\n",
    "    def get_near_age_categories(self, cat):\n",
    "        idx = self.age_categories.index(cat)\n",
    "        if idx == 0:\n",
    "            return [self.age_categories[1]]\n",
    "        elif idx + 1 == len(self.age_categories):\n",
    "            return [self.age_categories[idx - 1]]\n",
    "        return [self.age_categories[idx - 1], self.age_categories[idx + 1]]\n",
    "    \n",
    "    def forward(self, row, df):\n",
    "        return df['AGE_CATEGORY'] == row['AGE_CATEGORY']\n",
    "\n",
    "    def on_row_lack(self, row, df, lack):\n",
    "        similar = self.get_near_age_categories(row['AGE_CATEGORY'])\n",
    "        return df['AGE_CATEGORY'].isin(similar)"
   ]
  },
  {
   "cell_type": "code",
   "execution_count": 10,
   "metadata": {},
   "outputs": [],
   "source": [
    "# Фильтр места\n",
    "class AddressUnit(PredUnit):\n",
    "    def forward(self, row, df):\n",
    "        return df['ADRES'] == row['ADRES']\n",
    "\n",
    "    def on_row_lack(self, row, df, lack):\n",
    "        return np.zeros((len(df),))"
   ]
  },
  {
   "cell_type": "code",
   "execution_count": 11,
   "metadata": {},
   "outputs": [],
   "source": [
    "# Фильтр сезона\n",
    "class SeasonUnit(PredUnit):\n",
    "    def forward(self, row, df):\n",
    "        return df['MONTH'] == row['MONTH']\n",
    "\n",
    "    def on_row_lack(self, row, df, lack):\n",
    "        addit = (df['SEASON'] == row['SEASON']) & (df['MONTH'] != row['MONTH'])\n",
    "        if addit.sum() >= lack:\n",
    "            return addit\n",
    "        return np.ones((len(df),))"
   ]
  },
  {
   "cell_type": "code",
   "execution_count": 12,
   "metadata": {},
   "outputs": [],
   "source": [
    "# Фильтр года\n",
    "class YearUnit(PredUnit):\n",
    "    def forward(self, row, df):\n",
    "        return df['YEAR'] == row['YEAR']\n",
    "\n",
    "    def on_row_lack(self, row, df, lack):\n",
    "        absolute = np.abs(df['YEAR'] - row['YEAR'])\n",
    "        return (absolute > 0) & (absolute <= 3)"
   ]
  },
  {
   "cell_type": "code",
   "execution_count": 13,
   "metadata": {},
   "outputs": [],
   "source": [
    "# Фильтр пола\n",
    "class SexUnit(PredUnit):\n",
    "    def forward(self, row, df):\n",
    "        return df['PATIENT_SEX'] == row['PATIENT_SEX']\n",
    "\n",
    "    def on_row_lack(self, row, df, lack):\n",
    "        return np.ones((len(df),))"
   ]
  },
  {
   "cell_type": "code",
   "execution_count": 14,
   "metadata": {},
   "outputs": [],
   "source": [
    "# Конструирование модели\n",
    "model = ComplexPredictionModel(diseases, [\n",
    "    AgeUnit(),\n",
    "    AddressUnit(),\n",
    "    YearUnit(),\n",
    "    SeasonUnit(),\n",
    "    SexUnit()\n",
    "], alpha=6, selecting_method='most_similar', \n",
    "    distance='standard')"
   ]
  },
  {
   "cell_type": "code",
   "execution_count": 15,
   "metadata": {},
   "outputs": [
    {
     "name": "stderr",
     "output_type": "stream",
     "text": [
      "1000it [00:03, 253.32it/s]\n"
     ]
    },
    {
     "data": {
      "text/plain": [
       "0.967139471427966"
      ]
     },
     "execution_count": 15,
     "metadata": {},
     "output_type": "execute_result"
    }
   ],
   "source": [
    "# Проверка модели\n",
    "model.score(df_train.iloc[:1000], df_train['PATIENT_ID_COUNT'][:1000])"
   ]
  },
  {
   "cell_type": "code",
   "execution_count": 17,
   "metadata": {},
   "outputs": [
    {
     "name": "stderr",
     "output_type": "stream",
     "text": [
      "39373it [02:39, 247.13it/s]\n"
     ]
    }
   ],
   "source": [
    "# Предсказание на тестовом датасете\n",
    "pred = model.predict(df_test)"
   ]
  },
  {
   "cell_type": "code",
   "execution_count": 18,
   "metadata": {},
   "outputs": [
    {
     "data": {
      "text/plain": [
       "[<matplotlib.lines.Line2D at 0x266462b46a0>]"
      ]
     },
     "execution_count": 18,
     "metadata": {},
     "output_type": "execute_result"
    },
    {
     "data": {
      "image/png": "[encoded data removed]",
      "text/plain": [
       "<Figure size 432x288 with 1 Axes>"
      ]
     },
     "metadata": {
      "needs_background": "light"
     },
     "output_type": "display_data"
    }
   ],
   "source": [
    "# Просто просмотр графика предсказаний\n",
    "plt.plot(pred)"
   ]
  },
  {
   "cell_type": "code",
   "execution_count": 19,
   "metadata": {},
   "outputs": [
    {
     "data": {
      "image/png": "[encoded data removed]",
      "text/plain": [
       "<Figure size 432x288 with 1 Axes>"
      ]
     },
     "metadata": {
      "needs_background": "light"
     },
     "output_type": "display_data"
    }
   ],
   "source": [
    "# Немного статистики\n",
    "plt.hist(np.log10(pred), bins=60)\n",
    "plt.show()"
   ]
  },
  {
   "cell_type": "code",
   "execution_count": 20,
   "metadata": {},
   "outputs": [
    {
     "data": {
      "text/html": [
       "<div>\n",
       "<style scoped>\n",
       "    .dataframe tbody tr th:only-of-type {\n",
       "        vertical-align: middle;\n",
       "    }\n",
       "\n",
       "    .dataframe tbody tr th {\n",
       "        vertical-align: top;\n",
       "    }\n",
       "\n",
       "    .dataframe thead th {\n",
       "        text-align: right;\n",
       "    }\n",
       "</style>\n",
       "<table border=\"1\" class=\"dataframe\">\n",
       "  <thead>\n",
       "    <tr style=\"text-align: right;\">\n",
       "      <th></th>\n",
       "      <th>PATIENT_SEX</th>\n",
       "      <th>MKB_CODE</th>\n",
       "      <th>ADRES</th>\n",
       "      <th>VISIT_MONTH_YEAR</th>\n",
       "      <th>AGE_CATEGORY</th>\n",
       "      <th>PATIENT_ID_COUNT</th>\n",
       "    </tr>\n",
       "  </thead>\n",
       "  <tbody>\n",
       "    <tr>\n",
       "      <th>0</th>\n",
       "      <td>0</td>\n",
       "      <td>A00</td>\n",
       "      <td>Калининград</td>\n",
       "      <td>04.22</td>\n",
       "      <td>children</td>\n",
       "      <td>0</td>\n",
       "    </tr>\n",
       "    <tr>\n",
       "      <th>1</th>\n",
       "      <td>0</td>\n",
       "      <td>A00</td>\n",
       "      <td>Калининград</td>\n",
       "      <td>04.22</td>\n",
       "      <td>elderly</td>\n",
       "      <td>2</td>\n",
       "    </tr>\n",
       "    <tr>\n",
       "      <th>2</th>\n",
       "      <td>0</td>\n",
       "      <td>A00</td>\n",
       "      <td>Калининград</td>\n",
       "      <td>04.22</td>\n",
       "      <td>middleage</td>\n",
       "      <td>3</td>\n",
       "    </tr>\n",
       "    <tr>\n",
       "      <th>3</th>\n",
       "      <td>0</td>\n",
       "      <td>A00</td>\n",
       "      <td>Калининград</td>\n",
       "      <td>04.22</td>\n",
       "      <td>young</td>\n",
       "      <td>1</td>\n",
       "    </tr>\n",
       "    <tr>\n",
       "      <th>4</th>\n",
       "      <td>0</td>\n",
       "      <td>A01</td>\n",
       "      <td>Калининград</td>\n",
       "      <td>04.22</td>\n",
       "      <td>middleage</td>\n",
       "      <td>0</td>\n",
       "    </tr>\n",
       "  </tbody>\n",
       "</table>\n",
       "</div>"
      ],
      "text/plain": [
       "   PATIENT_SEX MKB_CODE        ADRES VISIT_MONTH_YEAR AGE_CATEGORY  \\\n",
       "0            0      A00  Калининград            04.22     children   \n",
       "1            0      A00  Калининград            04.22      elderly   \n",
       "2            0      A00  Калининград            04.22    middleage   \n",
       "3            0      A00  Калининград            04.22        young   \n",
       "4            0      A01  Калининград            04.22    middleage   \n",
       "\n",
       "   PATIENT_ID_COUNT  \n",
       "0                 0  \n",
       "1                 2  \n",
       "2                 3  \n",
       "3                 1  \n",
       "4                 0  "
      ]
     },
     "execution_count": 20,
     "metadata": {},
     "output_type": "execute_result"
    }
   ],
   "source": [
    "# Открытие уже готовой таблицы submission\n",
    "subm = pd.read_csv('sample_solution.csv', sep=';', dtype={'VISIT_MONTH_YEAR': str})\n",
    "subm.head()"
   ]
  },
  {
   "cell_type": "code",
   "execution_count": 21,
   "metadata": {},
   "outputs": [],
   "source": [
    "# Замена значений и заполнение модой\n",
    "subm['PATIENT_ID_COUNT'] = pred\n",
    "subm['PATIENT_ID_COUNT'].fillna(\n",
    "    subm['PATIENT_ID_COUNT'].mode()[0],\n",
    "    inplace=True)"
   ]
  },
  {
   "cell_type": "code",
   "execution_count": 22,
   "metadata": {},
   "outputs": [],
   "source": [
    "# Смена формата\n",
    "subm['PATIENT_ID_COUNT'] = subm['PATIENT_ID_COUNT'].astype('int32')"
   ]
  },
  {
   "cell_type": "code",
   "execution_count": 23,
   "metadata": {},
   "outputs": [],
   "source": [
    "# Сохранение\n",
    "subm.to_csv('submission1.csv', index=False, sep=';')"
   ]
  },
  {
   "cell_type": "code",
   "execution_count": null,
   "metadata": {},
   "outputs": [],
   "source": []
  }
 ],
 "metadata": {
  "kernelspec": {
   "display_name": "Python 3.9.2 64-bit",
   "language": "python",
   "name": "python3"
  },
  "language_info": {
   "codemirror_mode": {
    "name": "ipython",
    "version": 3
   },
   "file_extension": ".py",
   "mimetype": "text/x-python",
   "name": "python",
   "nbconvert_exporter": "python",
   "pygments_lexer": "ipython3",
   "version": "3.9.2"
  },
  "orig_nbformat": 4,
  "vscode": {
   "interpreter": {
    "hash": "865d8b2eb28e274047ba64063dfb6a2aabf0dfec4905d304d7a76618dae6fdd4"
   }
  }
 },
 "nbformat": 4,
 "nbformat_minor": 2
}
