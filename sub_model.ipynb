{
 "cells": [
  {
   "cell_type": "code",
   "execution_count": 1,
   "metadata": {},
   "outputs": [
    {
     "name": "stderr",
     "output_type": "stream",
     "text": [
      "d:\\python\\lib\\site-packages\\scipy\\__init__.py:146: UserWarning: A NumPy version >=1.16.5 and <1.23.0 is required for this version of SciPy (detected version 1.23.1\n",
      "  warnings.warn(f\"A NumPy version >={np_minversion} and <{np_maxversion}\"\n"
     ]
    }
   ],
   "source": [
    "# Ипортируем библиотеки\n",
    "import pandas as pd\n",
    "import numpy as np\n",
    "from matplotlib import pyplot as plt\n",
    "from sklearn.model_selection import train_test_split\n",
    "from tqdm import tqdm\n",
    "from sklearn.preprocessing import LabelEncoder\n",
    "from catboost import CatBoostRegressor, Pool\n",
    "from sklearn.ensemble import RandomForestRegressor\n",
    "from sklearn.metrics import r2_score"
   ]
  },
  {
   "cell_type": "code",
   "execution_count": 2,
   "metadata": {},
   "outputs": [
    {
     "data": {
      "text/html": [
       "<div>\n",
       "<style scoped>\n",
       "    .dataframe tbody tr th:only-of-type {\n",
       "        vertical-align: middle;\n",
       "    }\n",
       "\n",
       "    .dataframe tbody tr th {\n",
       "        vertical-align: top;\n",
       "    }\n",
       "\n",
       "    .dataframe thead th {\n",
       "        text-align: right;\n",
       "    }\n",
       "</style>\n",
       "<table border=\"1\" class=\"dataframe\">\n",
       "  <thead>\n",
       "    <tr style=\"text-align: right;\">\n",
       "      <th></th>\n",
       "      <th>PATIENT_SEX</th>\n",
       "      <th>MKB_CODE</th>\n",
       "      <th>ADRES</th>\n",
       "      <th>AGE_CATEGORY</th>\n",
       "      <th>PATIENT_ID_COUNT</th>\n",
       "      <th>MONTH</th>\n",
       "      <th>YEAR</th>\n",
       "      <th>SEASON</th>\n",
       "      <th>MKB_GROUP</th>\n",
       "      <th>ZONE</th>\n",
       "    </tr>\n",
       "  </thead>\n",
       "  <tbody>\n",
       "    <tr>\n",
       "      <th>0</th>\n",
       "      <td>0</td>\n",
       "      <td>A00.0</td>\n",
       "      <td>Гурьевск</td>\n",
       "      <td>young</td>\n",
       "      <td>1</td>\n",
       "      <td>8</td>\n",
       "      <td>21</td>\n",
       "      <td>3</td>\n",
       "      <td>0</td>\n",
       "      <td>0</td>\n",
       "    </tr>\n",
       "    <tr>\n",
       "      <th>1</th>\n",
       "      <td>0</td>\n",
       "      <td>A00.0</td>\n",
       "      <td>Калининград</td>\n",
       "      <td>children</td>\n",
       "      <td>1</td>\n",
       "      <td>3</td>\n",
       "      <td>2</td>\n",
       "      <td>2</td>\n",
       "      <td>0</td>\n",
       "      <td>0</td>\n",
       "    </tr>\n",
       "    <tr>\n",
       "      <th>2</th>\n",
       "      <td>0</td>\n",
       "      <td>A00.0</td>\n",
       "      <td>Гусев</td>\n",
       "      <td>children</td>\n",
       "      <td>1</td>\n",
       "      <td>3</td>\n",
       "      <td>19</td>\n",
       "      <td>2</td>\n",
       "      <td>0</td>\n",
       "      <td>1</td>\n",
       "    </tr>\n",
       "    <tr>\n",
       "      <th>3</th>\n",
       "      <td>0</td>\n",
       "      <td>A00.0</td>\n",
       "      <td>Калининград</td>\n",
       "      <td>children</td>\n",
       "      <td>1</td>\n",
       "      <td>1</td>\n",
       "      <td>22</td>\n",
       "      <td>1</td>\n",
       "      <td>0</td>\n",
       "      <td>0</td>\n",
       "    </tr>\n",
       "    <tr>\n",
       "      <th>4</th>\n",
       "      <td>0</td>\n",
       "      <td>A00.0</td>\n",
       "      <td>Калининград</td>\n",
       "      <td>children</td>\n",
       "      <td>1</td>\n",
       "      <td>2</td>\n",
       "      <td>18</td>\n",
       "      <td>1</td>\n",
       "      <td>0</td>\n",
       "      <td>0</td>\n",
       "    </tr>\n",
       "  </tbody>\n",
       "</table>\n",
       "</div>"
      ],
      "text/plain": [
       "   PATIENT_SEX MKB_CODE        ADRES AGE_CATEGORY  PATIENT_ID_COUNT  MONTH  \\\n",
       "0            0    A00.0     Гурьевск        young                 1      8   \n",
       "1            0    A00.0  Калининград     children                 1      3   \n",
       "2            0    A00.0        Гусев     children                 1      3   \n",
       "3            0    A00.0  Калининград     children                 1      1   \n",
       "4            0    A00.0  Калининград     children                 1      2   \n",
       "\n",
       "   YEAR  SEASON  MKB_GROUP  ZONE  \n",
       "0    21       3          0     0  \n",
       "1     2       2          0     0  \n",
       "2    19       2          0     1  \n",
       "3    22       1          0     0  \n",
       "4    18       1          0     0  "
      ]
     },
     "execution_count": 2,
     "metadata": {},
     "output_type": "execute_result"
    }
   ],
   "source": [
    "# Загружаем датасеты\n",
    "df_train = pd.read_csv('train.csv')\n",
    "df_test = pd.read_csv('test.csv')\n",
    "df_train.head()"
   ]
  },
  {
   "cell_type": "code",
   "execution_count": 3,
   "metadata": {},
   "outputs": [
    {
     "data": {
      "text/plain": [
       "array(['Калининград', 'Гурьевск', 'Черняховск', 'Балтийск',\n",
       "       'Багратионовск', 'Пионерский', 'Гвардейск', 'Зеленоградск',\n",
       "       'Нестеров', 'Правдинск', 'Славск', 'Советск', 'Полесск', 'Светлый',\n",
       "       'Гусев', 'Озерск', 'Краснознаменск', 'Мамоново', 'Неман',\n",
       "       'Светлогорск'], dtype=object)"
      ]
     },
     "execution_count": 3,
     "metadata": {},
     "output_type": "execute_result"
    }
   ],
   "source": [
    "# Города, кол-во больных в которых надо предсказать\n",
    "target_address = df_test['ADRES'].unique()\n",
    "target_address"
   ]
  },
  {
   "cell_type": "code",
   "execution_count": 4,
   "metadata": {},
   "outputs": [
    {
     "data": {
      "text/plain": [
       "array(['Партизанское', 'Садовое', 'Ясная Поляна', 'Холмогоровка',\n",
       "       'Большое Исаково', 'Калининградская', 'Колосовка', 'Невское',\n",
       "       'Прибрежный', 'СТ Железнодорожник', 'СТ Искра ул. Тюльпановая',\n",
       "       'СТ Победа', 'Совхозное', 'Малое Васильково', 'Сосновка',\n",
       "       'Ладушкин', 'Малинники', 'Раздольное', 'Волочаевское', 'Нивенское',\n",
       "       'Васильково', 'Голубево', 'Долгоруково', 'Донское', 'Дружный',\n",
       "       'Заозерье', 'Корнево', 'Ласкино', 'Луговое', 'Люблино',\n",
       "       'Малиновка', 'Малое Исаково', 'Матросово', 'Озерки',\n",
       "       'Переславское', 'Пятидорожное', 'СТ Колосок', 'СТ Радуга',\n",
       "       'Саранское', 'Славинск', 'Славянское', 'Ушаково', 'Янтарный',\n",
       "       'Ясное', 'Илюшино', 'Шоссейное', 'Южный', 'Петрово', 'Некрасово',\n",
       "       'Березовка', 'Большаково', 'Высокое', 'Домново', 'Дорожный',\n",
       "       'Железнодорожный', 'Знаменск', 'Коврово', 'Комсомольск',\n",
       "       'Константиновка', 'Крылово', 'Кумачево', 'Майское', 'Мельниково',\n",
       "       'Муромское', 'Низовье', 'Новодорожный', 'Новостроево',\n",
       "       'Первомайское', 'Пригородное', 'Приморск', 'Родники', 'Романово',\n",
       "       'Рощино', 'Рыбачий', 'СТ Чайка', 'Тимирязево', 'Храброво',\n",
       "       'Лесное', 'Взморье', 'Приморье', 'Рассвет', 'Залесье',\n",
       "       'Гурьевский', 'Фурманово', 'Заливино', 'Малое Луговое',\n",
       "       'Покровское', 'Прибрежное', 'Рыбное', 'Орловка', 'Владимирово',\n",
       "       'Добрино', 'Заостровье', 'Кострово', 'Маршальское',\n",
       "       'Ново-Московское', 'Северный', 'Тургенево'], dtype=object)"
      ]
     },
     "execution_count": 4,
     "metadata": {},
     "output_type": "execute_result"
    }
   ],
   "source": [
    "# Города, не вошедшие в список выше\n",
    "other = df_train['ADRES'][~df_train['ADRES'].isin(target_address)].unique()\n",
    "other"
   ]
  },
  {
   "cell_type": "code",
   "execution_count": 5,
   "metadata": {},
   "outputs": [],
   "source": [
    "# Удаление городов, которых нет в TEST датасете + удаление 2002 года\n",
    "df_train = df_train[df_train['ADRES'].isin(target_address)]\n",
    "df_train = df_train[df_train['YEAR'] != 2].reset_index(drop=True)"
   ]
  },
  {
   "cell_type": "code",
   "execution_count": 6,
   "metadata": {},
   "outputs": [],
   "source": [
    "# Преобразование данных:\n",
    "# Удаление некоторых столбцов\n",
    "# Кодирование строк в числа\n",
    "enc_age = LabelEncoder().fit(df_train['AGE_CATEGORY'])\n",
    "enc_adres = LabelEncoder().fit(df_train['ADRES'])\n",
    "\n",
    "for df in [df_train, df_test]:\n",
    "    df['MONTH'] -= 1\n",
    "    df.drop(['SEASON', 'MKB_GROUP', 'ZONE'], axis=1, inplace=True)\n",
    "    df['AGE_CATEGORY'] = enc_age.transform(df['AGE_CATEGORY'])\n",
    "    df['ADRES'] = enc_adres.transform(df['ADRES'])"
   ]
  },
  {
   "cell_type": "code",
   "execution_count": 7,
   "metadata": {},
   "outputs": [],
   "source": [
    "# Составление X и Y для модели\n",
    "x, y = df_train.drop('PATIENT_ID_COUNT', axis=1), df_train['PATIENT_ID_COUNT']\n",
    "x_train, x_test, y_train, y_test = train_test_split(x, y, test_size=0.2)"
   ]
  },
  {
   "cell_type": "code",
   "execution_count": 8,
   "metadata": {},
   "outputs": [
    {
     "data": {
      "text/plain": [
       "Index(['PATIENT_SEX', 'MKB_CODE', 'ADRES', 'AGE_CATEGORY', 'MONTH', 'YEAR'], dtype='object')"
      ]
     },
     "execution_count": 8,
     "metadata": {},
     "output_type": "execute_result"
    }
   ],
   "source": [
    "x.columns"
   ]
  },
  {
   "cell_type": "code",
   "execution_count": 9,
   "metadata": {},
   "outputs": [],
   "source": [
    "# Модель разделения\n",
    "# Она разделяет датасет на группы по\n",
    "# установленному правилу и для каждой группы обучает указанную\n",
    "# модель. Это может использовано, например, в качестве обхода\n",
    "# добавления новых признаков.\n",
    "class SeparationModel:\n",
    "    # Конструктор\n",
    "    def __init__(self, estimator='catboost', cat_features=None, by=['ADRES'], models=None, min_samples=0):\n",
    "        if type(by) == str:\n",
    "            by = [by]\n",
    "        if estimator == 'catboost' and cat_features is None:\n",
    "            raise Exception('You must provide list of'\n",
    "            'cat features in order to user catboost')\n",
    "        self.cat_features = cat_features\n",
    "        self.by = by\n",
    "        self.estimator = estimator\n",
    "        if models is not None:\n",
    "            self.models = models\n",
    "        self.min_samples = min_samples\n",
    "    \n",
    "    # Метод для создания \"имени\" для каждой группы\n",
    "    def _create_label(self, values):\n",
    "        if type(values) not in [list, tuple]:\n",
    "            return str(values)\n",
    "        return '&'.join([\n",
    "            str(v) for v in values\n",
    "        ])\n",
    "\n",
    "    # Метод обучения\n",
    "    def fit(self, x, y):\n",
    "        x = x.copy()\n",
    "        x['PATIENT_ID_COUNT'] = y\n",
    "        self.models = {}\n",
    "        x = x.groupby(self.by)\n",
    "        passed = 0\n",
    "        # Проход по всем группам\n",
    "        for group in tqdm(x.groups.keys()):\n",
    "            label = self._create_label(group)\n",
    "            sub_df = x.get_group(group)\n",
    "            # При недостаточном кол-ве строк в группе\n",
    "            # модель не обучается.\n",
    "            if len(sub_df) < self.min_samples:\n",
    "                passed += 1\n",
    "                continue\n",
    "            # Разделение данных и обучение\n",
    "            x_train_local, y_train_local = sub_df.drop(\n",
    "                ['PATIENT_ID_COUNT'] + self.by, axis=1), sub_df['PATIENT_ID_COUNT']\n",
    "            if self.estimator == 'catboost':\n",
    "                train_data = Pool(x_train_local, y_train_local, cat_features=self.cat_features)\n",
    "                self.models[label] = CatBoostRegressor().fit(train_data, verbose=0)\n",
    "            elif self.estimator == 'randomforest':\n",
    "                self.models[label] = RandomForestRegressor().fit(x_train_local, y_train_local)\n",
    "            else:\n",
    "                raise Exception(f'Unknown estimator: {self.estimator}')\n",
    "        passed_perc = round(passed / len(x.groups.keys()) * 100, 2)\n",
    "        print(f'Done, passed {passed_perc}% of all groups.')\n",
    "        return self\n",
    "\n",
    "    # Метод предсказания\n",
    "    # Предсказанные значение могут содержать NaN\n",
    "    def predict(self, x):\n",
    "        x.reset_index(drop=True, inplace=True)\n",
    "        x = x.groupby(self.by)\n",
    "        output = []\n",
    "        for group in tqdm(x.groups.keys()):\n",
    "            label = self._create_label(group)\n",
    "            df = x.get_group(group).drop(self.by, axis=1)\n",
    "            if label not in self.models:\n",
    "                pred = [np.nan] * len(df)\n",
    "            else:\n",
    "                pred = self.models[label].predict(df)\n",
    "            output += list(zip(df.index, pred))\n",
    "        output = sorted(output, key=lambda x: x[0])\n",
    "        return np.round(np.abs(np.array(output)[:, 1]))\n",
    "\n",
    "    # Оценка модели\n",
    "    def score(self, x, y):\n",
    "        y_hat = self.predict(x)\n",
    "        return r2_score(y, y_hat)"
   ]
  },
  {
   "cell_type": "code",
   "execution_count": 10,
   "metadata": {},
   "outputs": [
    {
     "name": "stderr",
     "output_type": "stream",
     "text": [
      "100%|██████████| 22565/22565 [08:01<00:00, 46.85it/s] "
     ]
    },
    {
     "name": "stdout",
     "output_type": "stream",
     "text": [
      "Done, passed 75.63% of all groups.\n"
     ]
    },
    {
     "name": "stderr",
     "output_type": "stream",
     "text": [
      "\n"
     ]
    }
   ],
   "source": [
    "# Обучение модели\n",
    "model = SeparationModel(\n",
    "    estimator='randomforest',\n",
    "    by=['MKB_CODE', 'YEAR'],\n",
    "    min_samples=50).fit(x, y)"
   ]
  },
  {
   "cell_type": "code",
   "execution_count": 11,
   "metadata": {},
   "outputs": [
    {
     "name": "stderr",
     "output_type": "stream",
     "text": [
      "100%|██████████| 4048/4048 [00:04<00:00, 847.29it/s] \n"
     ]
    },
    {
     "data": {
      "text/plain": [
       "[<matplotlib.lines.Line2D at 0x19620a38be0>]"
      ]
     },
     "execution_count": 11,
     "metadata": {},
     "output_type": "execute_result"
    },
    {
     "data": {
      "image/png": "[encoded data removed]",
      "text/plain": [
       "<Figure size 432x288 with 1 Axes>"
      ]
     },
     "metadata": {
      "needs_background": "light"
     },
     "output_type": "display_data"
    }
   ],
   "source": [
    "# Предсказание данных на TEST датасете\n",
    "pred = model.predict(df_test)\n",
    "plt.plot(pred)"
   ]
  },
  {
   "cell_type": "code",
   "execution_count": 14,
   "metadata": {},
   "outputs": [],
   "source": [
    "# Чтение предсказаний из 1-ой модели\n",
    "subm = pd.read_csv('submission1.csv', sep=';', dtype={'VISIT_MONTH_YEAR': str})"
   ]
  },
  {
   "cell_type": "code",
   "execution_count": 15,
   "metadata": {},
   "outputs": [
    {
     "data": {
      "text/plain": [
       "0.5109338887054581"
      ]
     },
     "execution_count": 15,
     "metadata": {},
     "output_type": "execute_result"
    }
   ],
   "source": [
    "# Подсчёт предсказанной части\n",
    "actually_pred = np.where(1 - np.isnan(pred))[0]\n",
    "len(actually_pred) / len(pred)"
   ]
  },
  {
   "cell_type": "code",
   "execution_count": 16,
   "metadata": {},
   "outputs": [],
   "source": [
    "# Замена некоторых значений из старых предсказаний на предсказания модели\n",
    "subm.loc[actually_pred, 'PATIENT_ID_COUNT'] = np.round(\n",
    "    (subm['PATIENT_ID_COUNT'][actually_pred] + pred[actually_pred]) / 2)"
   ]
  },
  {
   "cell_type": "code",
   "execution_count": 17,
   "metadata": {},
   "outputs": [
    {
     "data": {
      "text/plain": [
       "[<matplotlib.lines.Line2D at 0x194ab325970>]"
      ]
     },
     "execution_count": 17,
     "metadata": {},
     "output_type": "execute_result"
    },
    {
     "data": {
      "image/png": "[encoded data removed]",
      "text/plain": [
       "<Figure size 432x288 with 1 Axes>"
      ]
     },
     "metadata": {
      "needs_background": "light"
     },
     "output_type": "display_data"
    }
   ],
   "source": [
    "# График\n",
    "plt.plot(subm['PATIENT_ID_COUNT'])"
   ]
  },
  {
   "cell_type": "code",
   "execution_count": 18,
   "metadata": {},
   "outputs": [],
   "source": [
    "# Сохранение\n",
    "subm.to_csv('submission2.csv', index=False, sep=';')"
   ]
  },
  {
   "cell_type": "code",
   "execution_count": null,
   "metadata": {},
   "outputs": [],
   "source": []
  }
 ],
 "metadata": {
  "kernelspec": {
   "display_name": "Python 3.9.2 64-bit",
   "language": "python",
   "name": "python3"
  },
  "language_info": {
   "codemirror_mode": {
    "name": "ipython",
    "version": 3
   },
   "file_extension": ".py",
   "mimetype": "text/x-python",
   "name": "python",
   "nbconvert_exporter": "python",
   "pygments_lexer": "ipython3",
   "version": "3.9.2"
  },
  "orig_nbformat": 4,
  "vscode": {
   "interpreter": {
    "hash": "865d8b2eb28e274047ba64063dfb6a2aabf0dfec4905d304d7a76618dae6fdd4"
   }
  }
 },
 "nbformat": 4,
 "nbformat_minor": 2
}
